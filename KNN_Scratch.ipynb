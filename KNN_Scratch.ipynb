{
  "nbformat": 4,
  "nbformat_minor": 0,
  "metadata": {
    "colab": {
      "name": "KNN_Scratch.ipynb",
      "provenance": [],
      "authorship_tag": "ABX9TyMxbsghc2duXiM2ryfzOVoC",
      "include_colab_link": true
    },
    "kernelspec": {
      "name": "python3",
      "display_name": "Python 3"
    },
    "language_info": {
      "name": "python"
    }
  },
  "cells": [
    {
      "cell_type": "markdown",
      "metadata": {
        "id": "view-in-github",
        "colab_type": "text"
      },
      "source": [
        "<a href=\"https://colab.research.google.com/github/MonalSD/ML/blob/main/KNN_Scratch.ipynb\" target=\"_parent\"><img src=\"https://colab.research.google.com/assets/colab-badge.svg\" alt=\"Open In Colab\"/></a>"
      ]
    },
    {
      "cell_type": "code",
      "execution_count": 42,
      "metadata": {
        "id": "FnDbJ5R1xmzb"
      },
      "outputs": [],
      "source": [
        "from sklearn import datasets\n",
        "from sklearn.neighbors import KNeighborsClassifier\n",
        "from sklearn.model_selection import train_test_split\n",
        "from sklearn.model_selection import cross_val_score\n",
        "from sklearn.metrics import accuracy_score\n",
        "from collections import Counter"
      ]
    },
    {
      "cell_type": "code",
      "source": [
        "data = datasets.load_breast_cancer()"
      ],
      "metadata": {
        "id": "Ov3bBTPCxvCk"
      },
      "execution_count": 43,
      "outputs": []
    },
    {
      "cell_type": "code",
      "source": [
        "x_train,x_test,y_train,y_test = train_test_split(data.data,data.target,test_size =0.2,random_state=0)"
      ],
      "metadata": {
        "id": "owhZP67yxy7j"
      },
      "execution_count": 44,
      "outputs": []
    },
    {
      "cell_type": "code",
      "source": [
        "clf = KNeighborsClassifier(n_neighbors=7)\n",
        "clf.fit(x_train,y_train)"
      ],
      "metadata": {
        "colab": {
          "base_uri": "https://localhost:8080/"
        },
        "id": "d6vSawqIx2SJ",
        "outputId": "15a5faaa-f6dc-4fc3-88e2-df5764bffabb"
      },
      "execution_count": 45,
      "outputs": [
        {
          "output_type": "execute_result",
          "data": {
            "text/plain": [
              "KNeighborsClassifier(n_neighbors=7)"
            ]
          },
          "metadata": {},
          "execution_count": 45
        }
      ]
    },
    {
      "cell_type": "code",
      "source": [
        "clf.score(x_test,y_test)"
      ],
      "metadata": {
        "colab": {
          "base_uri": "https://localhost:8080/"
        },
        "id": "DpPftmbWx4mv",
        "outputId": "652d1c23-b733-4d90-985b-803eb393f8aa"
      },
      "execution_count": 46,
      "outputs": [
        {
          "output_type": "execute_result",
          "data": {
            "text/plain": [
              "0.9473684210526315"
            ]
          },
          "metadata": {},
          "execution_count": 46
        }
      ]
    },
    {
      "cell_type": "code",
      "source": [
        "def train(x,y):\n",
        "  return \n",
        "\n",
        "def predict_one(x_train,y_train,x_test,k):\n",
        "  distances =[]\n",
        "  for i in range(len(x_train)):\n",
        "    distance = ((x_train[i,:] - x_test)**2).sum()\n",
        "    distances.append([distance,i])\n",
        "  distances = sorted(distances)\n",
        "  targets = []\n",
        "  for i in range(k):\n",
        "    index_of_training_data= distances[i][1]\n",
        "    targets.append(y_train[index_of_training_data])\n",
        "  return Counter(targets).most_common(1)[0][0]\n",
        "\n",
        "def predict(x_train,y_train,x_test_data,k):\n",
        "  predictions = []\n",
        "  for x_test in x_test_data:\n",
        "    predictions.append(predict_one(-x_train,y_train,x_test,k))\n",
        "  return predictions"
      ],
      "metadata": {
        "id": "EjxL7x35x-Nt"
      },
      "execution_count": 48,
      "outputs": []
    },
    {
      "cell_type": "code",
      "source": [
        "y_pred = predict(x_train,y_train,x_test,7)\n",
        "accuracy_score(y_test,y_pred)"
      ],
      "metadata": {
        "colab": {
          "base_uri": "https://localhost:8080/"
        },
        "id": "ZgeERTobym3j",
        "outputId": "28977fba-4eda-415c-9568-45bf46f3650a"
      },
      "execution_count": 49,
      "outputs": [
        {
          "output_type": "execute_result",
          "data": {
            "text/plain": [
              "0.5877192982456141"
            ]
          },
          "metadata": {},
          "execution_count": 49
        }
      ]
    },
    {
      "cell_type": "code",
      "source": [
        "a = [1,0,1,1,1,1,0,2]\n",
        "Counter(a).most_common(1)[0][0]\n"
      ],
      "metadata": {
        "colab": {
          "base_uri": "https://localhost:8080/"
        },
        "id": "ISOuSe8sytLQ",
        "outputId": "ba038a9c-0f34-4939-a791-e356e77cfbd5"
      },
      "execution_count": 36,
      "outputs": [
        {
          "output_type": "execute_result",
          "data": {
            "text/plain": [
              "1"
            ]
          },
          "metadata": {},
          "execution_count": 36
        }
      ]
    },
    {
      "cell_type": "code",
      "source": [
        ""
      ],
      "metadata": {
        "id": "ONT5kuW32U7N"
      },
      "execution_count": null,
      "outputs": []
    }
  ]
}