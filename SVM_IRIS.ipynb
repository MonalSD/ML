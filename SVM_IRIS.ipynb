{
  "nbformat": 4,
  "nbformat_minor": 0,
  "metadata": {
    "colab": {
      "name": "SVM_IRIS.ipynb",
      "provenance": [],
      "authorship_tag": "ABX9TyM51U2gdjkuuqiqju7JgTLv",
      "include_colab_link": true
    },
    "kernelspec": {
      "name": "python3",
      "display_name": "Python 3"
    },
    "language_info": {
      "name": "python"
    }
  },
  "cells": [
    {
      "cell_type": "markdown",
      "metadata": {
        "id": "view-in-github",
        "colab_type": "text"
      },
      "source": [
        "<a href=\"https://colab.research.google.com/github/MonalSD/ML/blob/main/SVM_IRIS.ipynb\" target=\"_parent\"><img src=\"https://colab.research.google.com/assets/colab-badge.svg\" alt=\"Open In Colab\"/></a>"
      ]
    },
    {
      "cell_type": "code",
      "execution_count": 46,
      "metadata": {
        "id": "jGsb6F-QvuFK"
      },
      "outputs": [],
      "source": [
        "from sklearn import svm,datasets\n",
        "import numpy as np\n",
        "from sklearn.model_selection import train_test_split\n",
        "import matplotlib.pyplot as plt"
      ]
    },
    {
      "cell_type": "code",
      "source": [
        "iris = datasets.load_iris()\n",
        "x= iris.data[:,0:2]\n",
        "y= iris.target"
      ],
      "metadata": {
        "id": "GZynjQGowEuM"
      },
      "execution_count": 47,
      "outputs": []
    },
    {
      "cell_type": "code",
      "source": [
        "x_train,x_test,y_train,y_test = train_test_split(x,y)"
      ],
      "metadata": {
        "id": "VLh2Qcn6wLtx"
      },
      "execution_count": 48,
      "outputs": []
    },
    {
      "cell_type": "code",
      "source": [
        "clf = svm.SVC(C=3,kernel='linear')\n",
        "clf.fit(x_train,y_train)"
      ],
      "metadata": {
        "colab": {
          "base_uri": "https://localhost:8080/"
        },
        "id": "jGmq9uIkwSx6",
        "outputId": "e0998865-798f-4dcd-a3a1-c66446c1808f"
      },
      "execution_count": 49,
      "outputs": [
        {
          "output_type": "execute_result",
          "data": {
            "text/plain": [
              "SVC(C=3, kernel='linear')"
            ]
          },
          "metadata": {},
          "execution_count": 49
        }
      ]
    },
    {
      "cell_type": "code",
      "source": [
        "clf.score(x_test,y_test)"
      ],
      "metadata": {
        "colab": {
          "base_uri": "https://localhost:8080/"
        },
        "id": "oUWF1foewhOB",
        "outputId": "f746666f-8a2b-43ac-e624-33c6a8fa721e"
      },
      "execution_count": 50,
      "outputs": [
        {
          "output_type": "execute_result",
          "data": {
            "text/plain": [
              "0.7368421052631579"
            ]
          },
          "metadata": {},
          "execution_count": 50
        }
      ]
    },
    {
      "cell_type": "code",
      "source": [
        "def makegrid(x1,x2,h=0.02):\n",
        "  x1_min,x1_max = x1.min() -1,x1.max()+1\n",
        "  x2_min,x2_max = x2.min() -1,x2.max()+1\n",
        "  a = np.arange(x1_min,x1_max,h)\n",
        "  b = np.arange(x2_min,x2_max,h)\n",
        "  xx , yy = np.meshgrid(a,b)\n",
        "  return xx,yy"
      ],
      "metadata": {
        "id": "9-EzOV26yAVU"
      },
      "execution_count": 51,
      "outputs": []
    },
    {
      "cell_type": "code",
      "source": [
        "xx ,yy = makegrid(x[:,0],x[:,1])\n",
        "predictions = clf.predict(np.c_[xx.ravel(),yy.ravel()])\n",
        "plt.scatter(xx.ravel(),yy.ravel(),c=predictions)\n",
        "plt.show()"
      ],
      "metadata": {
        "colab": {
          "base_uri": "https://localhost:8080/",
          "height": 265
        },
        "id": "58O7bdx6zHqj",
        "outputId": "78ad3143-0a1f-454c-9f45-f2968c0e1f4a"
      },
      "execution_count": 52,
      "outputs": [
        {
          "output_type": "display_data",
          "data": {
            "text/plain": [
              "<Figure size 432x288 with 1 Axes>"
            ],
            "image/png": "[encoded data removed]"
          },
          "metadata": {
            "needs_background": "light"
          }
        }
      ]
    },
    {
      "cell_type": "code",
      "source": [
        ""
      ],
      "metadata": {
        "id": "UuqIPAGE1BEq"
      },
      "execution_count": 45,
      "outputs": []
    }
  ]
}