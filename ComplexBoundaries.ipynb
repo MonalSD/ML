{
  "nbformat": 4,
  "nbformat_minor": 0,
  "metadata": {
    "colab": {
      "name": "ComplexBoundaries.ipynb",
      "provenance": [],
      "authorship_tag": "ABX9TyN7m2bjzAgiq6jRMDL5LhHq",
      "include_colab_link": true
    },
    "kernelspec": {
      "name": "python3",
      "display_name": "Python 3"
    },
    "language_info": {
      "name": "python"
    }
  },
  "cells": [
    {
      "cell_type": "markdown",
      "metadata": {
        "id": "view-in-github",
        "colab_type": "text"
      },
      "source": [
        "<a href=\"https://colab.research.google.com/github/MonalSD/ML/blob/main/ComplexBoundaries.ipynb\" target=\"_parent\"><img src=\"https://colab.research.google.com/assets/colab-badge.svg\" alt=\"Open In Colab\"/></a>"
      ]
    },
    {
      "cell_type": "code",
      "execution_count": 1,
      "metadata": {
        "id": "LSUcBSHaXi_H"
      },
      "outputs": [],
      "source": [
        "from sklearn import datasets"
      ]
    },
    {
      "cell_type": "code",
      "source": [
        "boston = datasets.load_boston()"
      ],
      "metadata": {
        "id": "h-IjLcrXX1P6"
      },
      "execution_count": null,
      "outputs": []
    },
    {
      "cell_type": "code",
      "source": [
        "X = boston.data\n",
        "Y = boston.target"
      ],
      "metadata": {
        "id": "-0Db133MX3aD"
      },
      "execution_count": 3,
      "outputs": []
    },
    {
      "cell_type": "code",
      "source": [
        "import pandas as pd\n",
        "df = pd.DataFrame(X)\n",
        "print(boston.feature_names)\n",
        "df.columns = boston.feature_names\n",
        "df[\"age_age\"] = df.AGE ** 2\n",
        "X2 = df.values"
      ],
      "metadata": {
        "colab": {
          "base_uri": "https://localhost:8080/"
        },
        "id": "qFYPys09X6Gv",
        "outputId": "36f418f8-faa2-4c6c-bcbd-dfaa3be2f232"
      },
      "execution_count": 19,
      "outputs": [
        {
          "output_type": "stream",
          "name": "stdout",
          "text": [
            "['CRIM' 'ZN' 'INDUS' 'CHAS' 'NOX' 'RM' 'AGE' 'DIS' 'RAD' 'TAX' 'PTRATIO'\n",
            " 'B' 'LSTAT']\n"
          ]
        }
      ]
    },
    {
      "cell_type": "code",
      "source": [
        "from sklearn import model_selection\n",
        "X_train,X_test,Y_train,Y_test = model_selection.train_test_split(X,Y,random_state=0)\n",
        "X2_train,X2_test,Y2_train,Y2_test = model_selection.train_test_split(X2,Y,random_state=0)"
      ],
      "metadata": {
        "id": "hm67wLYzX9Dh"
      },
      "execution_count": 21,
      "outputs": []
    },
    {
      "cell_type": "code",
      "source": [
        "from sklearn.linear_model import LinearRegression\n",
        "algl = LinearRegression()\n",
        "algl2 = LinearRegression()"
      ],
      "metadata": {
        "id": "obqUpmPRYFgb"
      },
      "execution_count": 25,
      "outputs": []
    },
    {
      "cell_type": "code",
      "source": [
        "algl.fit(X_train,Y_train)\n",
        "algl2.fit(X2_train,Y2_train)"
      ],
      "metadata": {
        "colab": {
          "base_uri": "https://localhost:8080/"
        },
        "id": "LlwjdsMsYJNV",
        "outputId": "d0a71198-e9d9-48c4-9581-006cfcfbc954"
      },
      "execution_count": 26,
      "outputs": [
        {
          "output_type": "execute_result",
          "data": {
            "text/plain": [
              "LinearRegression()"
            ]
          },
          "metadata": {},
          "execution_count": 26
        }
      ]
    },
    {
      "cell_type": "code",
      "source": [
        "Y_predict = algl.predict(X_test)\n",
        "train_score = algl.score(X_train,Y_train)\n",
        "test_score = algl.score(X_test,Y_test)\n",
        "\n",
        "train_score , test_score"
      ],
      "metadata": {
        "colab": {
          "base_uri": "https://localhost:8080/"
        },
        "id": "plE_gEeVYMg0",
        "outputId": "de16d365-9cbb-47fd-ed88-0f1ce1335d46"
      },
      "execution_count": 27,
      "outputs": [
        {
          "output_type": "execute_result",
          "data": {
            "text/plain": [
              "(0.7697699488741149, 0.635463843320211)"
            ]
          },
          "metadata": {},
          "execution_count": 27
        }
      ]
    },
    {
      "cell_type": "code",
      "source": [
        "Y2_predict = algl2.predict(X2_test)\n",
        "train_score2 = algl2.score(X2_train,Y2_train)\n",
        "test_score2 = algl2.score(X2_test,Y2_test)\n",
        "\n",
        "train_score2 , test_score2"
      ],
      "metadata": {
        "colab": {
          "base_uri": "https://localhost:8080/"
        },
        "id": "_RVvjRPOZ9YT",
        "outputId": "ffc9af33-c41b-456b-ea77-a5a88392a8ed"
      },
      "execution_count": 28,
      "outputs": [
        {
          "output_type": "execute_result",
          "data": {
            "text/plain": [
              "(0.770724544991109, 0.6433109272342945)"
            ]
          },
          "metadata": {},
          "execution_count": 28
        }
      ]
    },
    {
      "cell_type": "code",
      "source": [
        "import matplotlib.pyplot as plt\n",
        "plt.scatter(Y_test,Y_predict)\n",
        "plt.axis([0,40,0,40])\n",
        "plt.show()"
      ],
      "metadata": {
        "colab": {
          "base_uri": "https://localhost:8080/",
          "height": 269
        },
        "id": "BkdA3tEyYO9E",
        "outputId": "ba7088a7-c212-491b-a1c5-e6137ce8ac6f"
      },
      "execution_count": 29,
      "outputs": [
        {
          "output_type": "display_data",
          "data": {
            "text/plain": [
              "<Figure size 432x288 with 1 Axes>"
            ],
            "image/png": "[encoded data removed]"
          },
          "metadata": {
            "needs_background": "light"
          }
        }
      ]
    },
    {
      "cell_type": "code",
      "source": [
        ""
      ],
      "metadata": {
        "id": "3S8af4kHYRWc"
      },
      "execution_count": null,
      "outputs": []
    }
  ]
}