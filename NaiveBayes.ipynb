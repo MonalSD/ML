{
  "nbformat": 4,
  "nbformat_minor": 0,
  "metadata": {
    "colab": {
      "name": "NaiveBayes.ipynb",
      "provenance": [],
      "collapsed_sections": [],
      "authorship_tag": "ABX9TyPvJtHqT24WEhNQYP5U6s5V",
      "include_colab_link": true
    },
    "kernelspec": {
      "name": "python3",
      "display_name": "Python 3"
    },
    "language_info": {
      "name": "python"
    }
  },
  "cells": [
    {
      "cell_type": "markdown",
      "metadata": {
        "id": "view-in-github",
        "colab_type": "text"
      },
      "source": [
        "<a href=\"https://colab.research.google.com/github/MonalSD/ML/blob/main/NaiveBayes.ipynb\" target=\"_parent\"><img src=\"https://colab.research.google.com/assets/colab-badge.svg\" alt=\"Open In Colab\"/></a>"
      ]
    },
    {
      "cell_type": "code",
      "execution_count": 1,
      "metadata": {
        "id": "ewOlRb4z7oRe"
      },
      "outputs": [],
      "source": [
        "import numpy as np"
      ]
    },
    {
      "cell_type": "code",
      "source": [
        "def fit(x_train,y_train):\n",
        "  result ={}\n",
        "  class_values = set(y_train)\n",
        "  for current_class in class_values:\n",
        "    result[current_class] = {}\n",
        "    result[\"total_data\"] = len(y_train)\n",
        "    current_class_rows = (y_train == current_class)\n",
        "    x_train_current = x_train[current_class_rows]\n",
        "    y_train_current = y_train[current_class_rows]\n",
        "    num_feature = x_train.shape[1]\n",
        "    result[current_class][\"total_count\"] = len(y_train_current)\n",
        "    for j in range(1,num_feature+1):\n",
        "      result[current_class][j] ={}\n",
        "      all_possible_values = set (x_train[:,j-1])\n",
        "      for current_value in all_possible_values:\n",
        "        result[current_class][j][current_value] =  (x_train_current[:,j-1] == current_value).sum()\n",
        "\n",
        "    return result"
      ],
      "metadata": {
        "id": "-yehgtwz7sf9"
      },
      "execution_count": 24,
      "outputs": []
    },
    {
      "cell_type": "code",
      "source": [
        "def probability(dictionary,x,current_class):\n",
        "  output = np.log(dictionary[current_class][\"total_count\"])-np.log(dictionary[\"total_data\"])\n",
        "  num_features = len(dictionary[current_class].keys())-1\n",
        "  for j in range(1,num_features+1):\n",
        "    xj = x[j-1]\n",
        "    count_current_class_with_value_xj = dictionary[current_class][j][xj] +1\n",
        "    count_current_Class = dictionary[current_class][\"total_count\"] + len(dictionary[current_class][j].keys())\n",
        "    current_xj_probability = np.log(count_current_class_with_value_xj)-np.log(count_current_Class)\n",
        "    output = output + current_xj_probability\n",
        "\n",
        "  return output\n"
      ],
      "metadata": {
        "id": "GCe7pBlrbr0b"
      },
      "execution_count": 25,
      "outputs": []
    },
    {
      "cell_type": "code",
      "source": [
        "def predictSinglePoint(dictionary,x):\n",
        "  classes = dictionary.keys()\n",
        "  best_p = -1000\n",
        "  best_class = -1\n",
        "  first_run = True\n",
        "  for current_class in classes:\n",
        "    if(current_class == \"total_data\"):\n",
        "       continue\n",
        "    p_current_class = probability(dictionary,x,current_class)\n",
        "    if (first_run or p_current_class > best_p):\n",
        "      best_p = p_current_class\n",
        "      best_class = current_class\n",
        "    first_run = False\n",
        "\n",
        "  return best_class\n"
      ],
      "metadata": {
        "id": "CZWgmp54am9P"
      },
      "execution_count": 26,
      "outputs": []
    },
    {
      "cell_type": "code",
      "source": [
        "def predict(dictionary,x_test):\n",
        "  y_pred = []\n",
        "  for x in x_test:\n",
        "    x_class = predictSinglePoint(dictionary,x)\n",
        "    y_pred.append(x_class)\n",
        "    \n",
        "  return y_pred"
      ],
      "metadata": {
        "id": "LIvMiYrAZlok"
      },
      "execution_count": 27,
      "outputs": []
    },
    {
      "cell_type": "code",
      "source": [
        "def makeLabelled(column):\n",
        "  second_limit = column.mean()\n",
        "  first_limit = 0.5*second_limit\n",
        "  third_limit = 1.5*second_limit\n",
        "  for i in range (0,len(column)):\n",
        "    if(column[i]<first_limit):\n",
        "      column[i] =0\n",
        "    elif(column[i]<second_limit):\n",
        "      column[i] =1\n",
        "    elif(column[i]<third_limit):\n",
        "      column[i] =2\n",
        "    else:\n",
        "      return 3\n",
        "  return column"
      ],
      "metadata": {
        "id": "DxXzUU0AfeKc"
      },
      "execution_count": 28,
      "outputs": []
    },
    {
      "cell_type": "code",
      "source": [
        "from sklearn import datasets\n",
        "iris = datasets.load_iris()\n",
        "x= iris.data\n",
        "y = iris.target"
      ],
      "metadata": {
        "id": "Bl5GTRWIN4b_"
      },
      "execution_count": 29,
      "outputs": []
    },
    {
      "cell_type": "code",
      "source": [
        "for i in range(0,x.shape[-1]):\n",
        "  x[:,i] = makeLabelled(x[:,i])"
      ],
      "metadata": {
        "id": "avWueQ9lOPBU"
      },
      "execution_count": 30,
      "outputs": []
    },
    {
      "cell_type": "code",
      "source": [
        "from sklearn import model_selection\n",
        "x_train,x_test,y_train,y_test = model_selection.train_test_split(x,y,test_size =0.25,random_state=0)"
      ],
      "metadata": {
        "id": "BJCZPhZMOleC"
      },
      "execution_count": 31,
      "outputs": []
    },
    {
      "cell_type": "code",
      "source": [
        "dictionary = fit(x_train,y_train)"
      ],
      "metadata": {
        "id": "j8rWnjI9O-7R"
      },
      "execution_count": 32,
      "outputs": []
    },
    {
      "cell_type": "code",
      "source": [
        "y_pred = predict(dictionary,x_test)"
      ],
      "metadata": {
        "id": "cu7h-jUKPDkE"
      },
      "execution_count": 33,
      "outputs": []
    },
    {
      "cell_type": "code",
      "source": [
        "from sklearn.metrics import classification_report, confusion_matrix\n",
        "print(classification_report(y_test,y_pred))\n",
        "print(confusion_matrix(y_test,y_pred))"
      ],
      "metadata": {
        "colab": {
          "base_uri": "https://localhost:8080/"
        },
        "id": "H03Ck-e4Peq8",
        "outputId": "5dc41a0e-96da-417b-a731-b552bba28125"
      },
      "execution_count": 36,
      "outputs": [
        {
          "output_type": "stream",
          "name": "stdout",
          "text": [
            "              precision    recall  f1-score   support\n",
            "\n",
            "           0       0.34      1.00      0.51        13\n",
            "           1       0.00      0.00      0.00        16\n",
            "           2       0.00      0.00      0.00         9\n",
            "\n",
            "    accuracy                           0.34        38\n",
            "   macro avg       0.11      0.33      0.17        38\n",
            "weighted avg       0.12      0.34      0.17        38\n",
            "\n",
            "[[13  0  0]\n",
            " [16  0  0]\n",
            " [ 9  0  0]]\n"
          ]
        },
        {
          "output_type": "stream",
          "name": "stderr",
          "text": [
            "/usr/local/lib/python3.7/dist-packages/sklearn/metrics/_classification.py:1318: UndefinedMetricWarning: Precision and F-score are ill-defined and being set to 0.0 in labels with no predicted samples. Use `zero_division` parameter to control this behavior.\n",
            "  _warn_prf(average, modifier, msg_start, len(result))\n",
            "/usr/local/lib/python3.7/dist-packages/sklearn/metrics/_classification.py:1318: UndefinedMetricWarning: Precision and F-score are ill-defined and being set to 0.0 in labels with no predicted samples. Use `zero_division` parameter to control this behavior.\n",
            "  _warn_prf(average, modifier, msg_start, len(result))\n",
            "/usr/local/lib/python3.7/dist-packages/sklearn/metrics/_classification.py:1318: UndefinedMetricWarning: Precision and F-score are ill-defined and being set to 0.0 in labels with no predicted samples. Use `zero_division` parameter to control this behavior.\n",
            "  _warn_prf(average, modifier, msg_start, len(result))\n"
          ]
        }
      ]
    },
    {
      "cell_type": "code",
      "source": [
        "classes = dictionary.keys()"
      ],
      "metadata": {
        "id": "naEcS6DZSC9M"
      },
      "execution_count": 35,
      "outputs": []
    },
    {
      "cell_type": "code",
      "source": [
        ""
      ],
      "metadata": {
        "id": "vPgelalfSJAA"
      },
      "execution_count": null,
      "outputs": []
    }
  ]
}